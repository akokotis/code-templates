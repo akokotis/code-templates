{
 "cells": [
  {
   "cell_type": "markdown",
   "id": "8ccabb81",
   "metadata": {},
   "source": [
    "# Project Title\n",
    "Author: <br>\n",
    "Date:\n",
    "\n",
    "### Assignment Plan\n",
    "    1. Define problem and desired output\n",
    "    2. Investigate data structure\n",
    "    3. Data exploration and Feature Engineering\n",
    "    4. Model Selection and Evaluation\n",
    "    5. Summary\n",
    "    \n",
    "### 1. Business Problem\n",
    "#### Goal: ####\n",
    "<br>\n",
    "<br>\n",
    "\n",
    "#### Evaluation Criteria: ####\n",
    "\n",
    "- \n",
    "- \n",
    "\n",
    "#### Output: ####\n",
    "\n",
    "\n",
    "### 2. Investigate data structure"
   ]
  },
  {
   "cell_type": "code",
   "execution_count": 1,
   "id": "210305e9",
   "metadata": {},
   "outputs": [],
   "source": [
    "# packages to install"
   ]
  },
  {
   "cell_type": "code",
   "execution_count": null,
   "id": "d27255a3",
   "metadata": {},
   "outputs": [],
   "source": []
  },
  {
   "cell_type": "markdown",
   "id": "114a2754",
   "metadata": {},
   "source": [
    "### 3. Split dataset for cross validation\n"
   ]
  },
  {
   "cell_type": "code",
   "execution_count": null,
   "id": "2f39f133",
   "metadata": {},
   "outputs": [],
   "source": []
  },
  {
   "cell_type": "markdown",
   "id": "fcc668da",
   "metadata": {},
   "source": [
    "### 4. Data Exploration and Feature Engineering\n",
    "#### Possible Features to Create: ####\n",
    "- \n",
    "<br>\n",
    "\n",
    "#### Things to look out for: ####\n",
    "- outliers\n",
    "- class imbalance\n",
    "- missing values / nulls\n",
    "- zero-inflated variables"
   ]
  },
  {
   "cell_type": "code",
   "execution_count": null,
   "id": "161db381",
   "metadata": {},
   "outputs": [],
   "source": []
  },
  {
   "cell_type": "markdown",
   "id": "3f7b8ecc",
   "metadata": {},
   "source": [
    "#### EDA Thoughts: ####\n",
    "\n",
    "- \n"
   ]
  },
  {
   "cell_type": "markdown",
   "id": "6e8fdff3",
   "metadata": {},
   "source": [
    "### 4. Model Selection and Evaluation\n",
    "#### Type of Model: ####\n",
    "\n"
   ]
  },
  {
   "cell_type": "code",
   "execution_count": null,
   "id": "0f825a2d",
   "metadata": {},
   "outputs": [],
   "source": []
  },
  {
   "cell_type": "markdown",
   "id": "03c2bc5b",
   "metadata": {},
   "source": [
    "### Final Model  ###\n",
    "**Model:** \n",
    "<br>**Data:** \n",
    "<br>**Features:**\n",
    "`[]`\n",
    "<br>**Performance:**\n",
    "- Metric: score"
   ]
  },
  {
   "cell_type": "code",
   "execution_count": null,
   "id": "3b756d64",
   "metadata": {},
   "outputs": [],
   "source": []
  },
  {
   "cell_type": "markdown",
   "id": "7e077781",
   "metadata": {
    "collapsed": true,
    "scrolled": true
   },
   "source": [
    "### 5. Summary\n",
    "\n",
    "\n",
    "#### References Used:\n"
   ]
  },
  {
   "cell_type": "markdown",
   "id": "0795b12f",
   "metadata": {},
   "source": [
    "### APPENDIX\n"
   ]
  },
  {
   "cell_type": "code",
   "execution_count": null,
   "id": "d7053de8",
   "metadata": {},
   "outputs": [],
   "source": []
  }
 ],
 "metadata": {
  "kernelspec": {
   "display_name": "Python 3 (ipykernel)",
   "language": "python",
   "name": "python3"
  },
  "language_info": {
   "codemirror_mode": {
    "name": "ipython",
    "version": 3
   },
   "file_extension": ".py",
   "mimetype": "text/x-python",
   "name": "python",
   "nbconvert_exporter": "python",
   "pygments_lexer": "ipython3",
   "version": "3.10.5"
  }
 },
 "nbformat": 4,
 "nbformat_minor": 5
}
